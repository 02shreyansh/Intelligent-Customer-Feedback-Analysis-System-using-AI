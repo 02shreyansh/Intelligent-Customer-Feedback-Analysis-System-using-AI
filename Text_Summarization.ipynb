{
 "cells": [
  {
   "cell_type": "code",
   "execution_count": 1,
   "id": "e6dbe89f",
   "metadata": {},
   "outputs": [
    {
     "name": "stderr",
     "output_type": "stream",
     "text": [
      "/workspaces/Intelligent-Customer-Feedback-Analysis-System-using-AI/myenv/lib/python3.12/site-packages/tqdm/auto.py:21: TqdmWarning: IProgress not found. Please update jupyter and ipywidgets. See https://ipywidgets.readthedocs.io/en/stable/user_install.html\n",
      "  from .autonotebook import tqdm as notebook_tqdm\n"
     ]
    }
   ],
   "source": [
    "import pandas as pd\n",
    "import numpy as np\n",
    "from transformers import BartForConditionalGeneration, BartTokenizer\n",
    "from sklearn.feature_extraction.text import TfidfVectorizer\n",
    "from sklearn.metrics.pairwise import cosine_similarity\n",
    "import networkx as nx\n",
    "import warnings\n",
    "warnings.filterwarnings('ignore')"
   ]
  },
  {
   "cell_type": "code",
   "execution_count": 2,
   "id": "7e89ae48",
   "metadata": {},
   "outputs": [],
   "source": [
    "df = pd.read_csv('dataset/csv/processed_data.csv')\n",
    "long_feedback = df[df['processed_text'].str.split().str.len() > 50].copy()\n",
    "bart_tokenizer = BartTokenizer.from_pretrained('facebook/bart-large-cnn')\n",
    "bart_model = BartForConditionalGeneration.from_pretrained('facebook/bart-large-cnn')"
   ]
  },
  {
   "cell_type": "code",
   "execution_count": 3,
   "id": "109bcac1",
   "metadata": {},
   "outputs": [],
   "source": [
    "def bart_summarize(text, max_length=150, min_length=50):\n",
    "    inputs = bart_tokenizer([text], max_length=1024, return_tensors='pt', truncation=True)\n",
    "    summary_ids = bart_model.generate(\n",
    "        inputs['input_ids'],\n",
    "        num_beams=4,\n",
    "        max_length=max_length,\n",
    "        min_length=min_length,\n",
    "        early_stopping=True\n",
    "    )\n",
    "    summary = bart_tokenizer.decode(summary_ids[0], skip_special_tokens=True)\n",
    "    return summary"
   ]
  },
  {
   "cell_type": "code",
   "execution_count": 4,
   "id": "52cc2980",
   "metadata": {},
   "outputs": [],
   "source": [
    "sample_texts = long_feedback['processed_text'].head(5).tolist()\n",
    "bart_summaries = []"
   ]
  },
  {
   "cell_type": "code",
   "execution_count": 5,
   "id": "629a1d89",
   "metadata": {},
   "outputs": [
    {
     "name": "stdout",
     "output_type": "stream",
     "text": [
      "\n",
      "Processing feedback 1/5...\n",
      "Short Summary: amazing soundtrack favorite music time hand intense sadness prisoner fate mean youve played game hope distant promise girl stole star important inspiration personally throughout teen year higher energy track like chrono cross time scar time dreamwatch chronomantique indefinably\n",
      "Detailed Summary: amazing soundtrack favorite music time hand intense sadness prisoner fate mean youve played game hope distant promise girl stole star important inspiration personally throughout teen year higher energy track like chrono cross time scar time dreamwatch chronomantique indefinably remeniscent chrono trigger absolutely superb well.\n",
      "\n",
      "Processing feedback 2/5...\n",
      "Short Summary: excellent soundtrack truly like soundtrack enjoy video game music played game music enjoy truly relaxing peacefulon disk one favorite scar time life death forest illusion fortress ancient dragon lost fragment drowned valleydisk two draggons galdorb home chronomantique\n",
      "Detailed Summary: excellent soundtrack truly like soundtrack enjoy video game music played game music enjoy truly relaxing peacefulon disk one favorite scar time life death forest illusion fortress ancient dragon lost fragment drowned valleydisk two draggons galdorb home chronomantique prisoner fate gale girlfriend like zelbessdisk three best three garden god chronopolis fate jellyfish sea burning orphange dragon prayer tower star dragon god radical dreamer unstealable jewel.\n",
      "\n",
      "Processing feedback 3/5...\n",
      "Short Summary: absolute masterpiece quite sure actually taking time read played game least heard least track whether aware mitsudas music contributed greatly mood every single minute whole gamecomposed cd quite song havent exact count heartrendering impressively remarkable soundtrack one assure\n",
      "Detailed Summary: absolute masterpiece quite sure actually taking time read played game least heard least track whether aware mitsudas music contributed greatly mood every single minute whole gamecomposed cd quite song havent exact count heartrendering impressively remarkable soundtrack one assure forget everything every listener fastpaced energetic dancing tokage termina home slower haunting dragon god purely beautifully composed time scar even fantastic vocal radical dreamersthis one best videogame soundtrack surely mitsudaas best ever.\n",
      "\n",
      "Processing feedback 4/5...\n",
      "Short Summary: buyer beware selfpublished book want know whyread paragraph star review must written haddons family friends or perhaps cant imagine anyone reading whole thing.\n",
      "Detailed Summary: buyer beware selfpublished book want know whyread paragraph star review must written haddons family friends or perhaps cant imagine anyone reading whole thing. i spent evening book friend hysteric reading bit piece one another definitely bad enough entered kind worst book contest cant believe amazon even sell kind thing maybe offer grade term paper kill mockingbird.\n",
      "\n",
      "Processing feedback 5/5...\n",
      "Short Summary: awful beyond belief feel write keep others wasting money book seems written grader poor grammatical skill age another reviewer point misspelling cover believe least one per chapter example mentioned twice lean house distracted poor writing weak plot decided read pencil hand mark horrible\n",
      "Detailed Summary: awful beyond belief feel write keep others wasting money book seems written grader poor grammatical skill age another reviewer point misspelling cover believe at least one per chapter example mentioned twice lean house distracted poor writing weak plot decided read pencil hand mark horrible grammar spelling please dont waste money believe good review must written author relative put much faith review\n"
     ]
    }
   ],
   "source": [
    "for idx, text in enumerate(sample_texts, 1):\n",
    "    print(f\"\\nProcessing feedback {idx}/5...\")\n",
    "    short_summary = bart_summarize(text, max_length=50, min_length=20)\n",
    "    detailed_summary = bart_summarize(text, max_length=150, min_length=50)\n",
    "    bart_summaries.append({\n",
    "        'feedback_id': idx,\n",
    "        'original_text': text[:200] + '...',\n",
    "        'short_summary': short_summary,\n",
    "        'detailed_summary': detailed_summary\n",
    "    })\n",
    "    print(f\"Short Summary: {short_summary}\")\n",
    "    print(f\"Detailed Summary: {detailed_summary}\")\n",
    "\n",
    "bart_df = pd.DataFrame(bart_summaries)\n",
    "bart_df.to_csv('dataset/csv/bart_summaries.csv', index=False)"
   ]
  },
  {
   "cell_type": "code",
   "execution_count": 6,
   "id": "f8c2d29b",
   "metadata": {},
   "outputs": [],
   "source": [
    "def extractive_summarize(text, num_sentences=3):\n",
    "    sentences = text.split('.')\n",
    "    sentences = [s.strip() for s in sentences if len(s.strip()) > 10]\n",
    "    if len(sentences) <= num_sentences:\n",
    "        return '. '.join(sentences) + '.'\n",
    "    vectorizer = TfidfVectorizer()\n",
    "    tfidf_matrix = vectorizer.fit_transform(sentences)\n",
    "    similarity_matrix = cosine_similarity(tfidf_matrix)\n",
    "    nx_graph = nx.from_numpy_array(similarity_matrix)\n",
    "    scores = nx.pagerank(nx_graph)\n",
    "    ranked_sentences = sorted(((scores[i], s) for i, s in enumerate(sentences)), reverse=True)\n",
    "    top_sentences = ranked_sentences[:num_sentences]\n",
    "    top_sentences = sorted(top_sentences, key=lambda x: sentences.index(x[1]))\n",
    "    \n",
    "    summary = '. '.join([s[1] for s in top_sentences]) + '.'\n",
    "    return summary"
   ]
  },
  {
   "cell_type": "code",
   "execution_count": 7,
   "id": "10b10230",
   "metadata": {},
   "outputs": [
    {
     "name": "stdout",
     "output_type": "stream",
     "text": [
      "\n",
      "Processing feedback 1/5...\n",
      "Short Summary: amazing soundtrack favorite music time hand intense sadness prisoner fate mean youve played game hope distant promise girl stole star important inspiration personally throughout teen year higher energy track like chrono cross time scar time dreamwatch chronomantique indefinably remeniscent chrono trigger absolutely superb wellthis soundtrack amazing music probably best composer work havent heard xenogears soundtrack cant say sure even youve never played game would worth twice price buy iti wish could give star.\n",
      "Detailed Summary: amazing soundtrack favorite music time hand intense sadness prisoner fate mean youve played game hope distant promise girl stole star important inspiration personally throughout teen year higher energy track like chrono cross time scar time dreamwatch chronomantique indefinably remeniscent chrono trigger absolutely superb wellthis soundtrack amazing music probably best composer work havent heard xenogears soundtrack cant say sure even youve never played game would worth twice price buy iti wish could give star.\n",
      "\n",
      "Processing feedback 2/5...\n",
      "Short Summary: excellent soundtrack truly like soundtrack enjoy video game music played game music enjoy truly relaxing peacefulon disk one favorite scar time life death forest illusion fortress ancient dragon lost fragment drowned valleydisk two draggons galdorb home chronomantique prisoner fate gale girlfriend like zelbessdisk three best three garden god chronopolis fate jellyfish sea burning orphange dragon prayer tower star dragon god radical dreamer unstealable jeweloverall excellent soundtrack brought like video game musicxander cross.\n",
      "Detailed Summary: excellent soundtrack truly like soundtrack enjoy video game music played game music enjoy truly relaxing peacefulon disk one favorite scar time life death forest illusion fortress ancient dragon lost fragment drowned valleydisk two draggons galdorb home chronomantique prisoner fate gale girlfriend like zelbessdisk three best three garden god chronopolis fate jellyfish sea burning orphange dragon prayer tower star dragon god radical dreamer unstealable jeweloverall excellent soundtrack brought like video game musicxander cross.\n",
      "\n",
      "Processing feedback 3/5...\n",
      "Short Summary: absolute masterpiece quite sure actually taking time read played game least heard least track whether aware mitsudas music contributed greatly mood every single minute whole gamecomposed cd quite song havent exact count heartrendering impressively remarkable soundtrack one assure forget everything every listener fastpaced energetic dancing tokage termina home slower haunting dragon god purely beautifully composed time scar even fantastic vocal radical dreamersthis one best videogame soundtrack surely mitsudas best ever.\n",
      "Detailed Summary: absolute masterpiece quite sure actually taking time read played game least heard least track whether aware mitsudas music contributed greatly mood every single minute whole gamecomposed cd quite song havent exact count heartrendering impressively remarkable soundtrack one assure forget everything every listener fastpaced energetic dancing tokage termina home slower haunting dragon god purely beautifully composed time scar even fantastic vocal radical dreamersthis one best videogame soundtrack surely mitsudas best ever.\n",
      "\n",
      "Processing feedback 4/5...\n",
      "Short Summary: buyer beware selfpublished book want know whyread paragraph star review must written haddons family friendsor perhaps cant imagine anyone reading whole thingi spent evening book friend hysteric reading bit piece one another definitely bad enough entered kind worst book contest cant believe amazon even sell kind thing maybe offer grade term paper kill mockingbirda book quite sure haddon never heard anyway unless mood send book someone jokestay far far away one.\n",
      "Detailed Summary: buyer beware selfpublished book want know whyread paragraph star review must written haddons family friendsor perhaps cant imagine anyone reading whole thingi spent evening book friend hysteric reading bit piece one another definitely bad enough entered kind worst book contest cant believe amazon even sell kind thing maybe offer grade term paper kill mockingbirda book quite sure haddon never heard anyway unless mood send book someone jokestay far far away one.\n",
      "\n",
      "Processing feedback 5/5...\n",
      "Short Summary: awful beyond belief feel write keep others wasting money book seems written grader poor grammatical skill age another reviewer point misspelling cover believe least one per chapter example mentioned twice lean house distracted poor writing weak plot decided read pencil hand mark horrible grammar spelling please dont waste money believe good review must written author relative put much faith review.\n",
      "Detailed Summary: awful beyond belief feel write keep others wasting money book seems written grader poor grammatical skill age another reviewer point misspelling cover believe least one per chapter example mentioned twice lean house distracted poor writing weak plot decided read pencil hand mark horrible grammar spelling please dont waste money believe good review must written author relative put much faith review.\n"
     ]
    }
   ],
   "source": [
    "extractive_summaries = []\n",
    "for idx, text in enumerate(sample_texts, 1):\n",
    "    print(f\"\\nProcessing feedback {idx}/5...\")\n",
    "    short_summary = extractive_summarize(text, num_sentences=2)\n",
    "    detailed_summary = extractive_summarize(text, num_sentences=4)\n",
    "    \n",
    "    extractive_summaries.append({\n",
    "        'feedback_id': idx,\n",
    "        'original_text': text[:200] + '...',\n",
    "        'short_summary': short_summary,\n",
    "        'detailed_summary': detailed_summary\n",
    "    })\n",
    "    \n",
    "    print(f\"Short Summary: {short_summary}\")\n",
    "    print(f\"Detailed Summary: {detailed_summary}\")\n",
    "\n",
    "extractive_df = pd.DataFrame(extractive_summaries)\n",
    "extractive_df.to_csv('dataset/csv/extractive_summaries.csv', index=False)"
   ]
  },
  {
   "cell_type": "code",
   "execution_count": 8,
   "id": "40386c81",
   "metadata": {},
   "outputs": [
    {
     "name": "stdout",
     "output_type": "stream",
     "text": [
      "   Feedback_ID  Original_Length  BART_Short  BART_Detailed  Extractive_Short  \\\n",
      "0            1               73          38             44                73   \n",
      "1            2               72          37             64                72   \n",
      "2            3               70          38             70                70   \n",
      "3            4               71          23             56                71   \n",
      "4            5               60          43             61                60   \n",
      "\n",
      "   Extractive_Detailed  \n",
      "0                   73  \n",
      "1                   72  \n",
      "2                   70  \n",
      "3                   71  \n",
      "4                   60  \n"
     ]
    }
   ],
   "source": [
    "comparison_data = []\n",
    "for i in range(len(sample_texts)):\n",
    "    comparison_data.append({\n",
    "        'Feedback_ID': i+1,\n",
    "        'Original_Length': len(sample_texts[i].split()),\n",
    "        'BART_Short': len(bart_summaries[i]['short_summary'].split()),\n",
    "        'BART_Detailed': len(bart_summaries[i]['detailed_summary'].split()),\n",
    "        'Extractive_Short': len(extractive_summaries[i]['short_summary'].split()),\n",
    "        'Extractive_Detailed': len(extractive_summaries[i]['detailed_summary'].split())\n",
    "    })\n",
    "\n",
    "comparison_df = pd.DataFrame(comparison_data)\n",
    "print(comparison_df)\n",
    "comparison_df.to_csv('dataset/csv/summary_comparison.csv', index=False)"
   ]
  },
  {
   "cell_type": "code",
   "execution_count": 9,
   "id": "0019ee10",
   "metadata": {},
   "outputs": [
    {
     "name": "stdout",
     "output_type": "stream",
     "text": [
      "total_feedback_analyzed: 427\n",
      "summaries_generated: 5\n",
      "methods_used: ['BART (Transformer)', 'TF-IDF + Cosine Similarity (Extractive)']\n",
      "output_files: ['dataset/csv/bart_summaries.csv', 'dataset/csv/extractive_summaries.csv', 'dataset/csv/summary_comparison.csv']\n"
     ]
    }
   ],
   "source": [
    "example_idx = 0\n",
    "summary_output = {\n",
    "    'total_feedback_analyzed': len(long_feedback),\n",
    "    'summaries_generated': len(sample_texts),\n",
    "    'methods_used': ['BART (Transformer)', 'TF-IDF + Cosine Similarity (Extractive)'],\n",
    "    'output_files': ['dataset/csv/bart_summaries.csv', 'dataset/csv/extractive_summaries.csv', 'dataset/csv/summary_comparison.csv']\n",
    "}\n",
    "for key, value in summary_output.items():\n",
    "    print(f\"{key}: {value}\")"
   ]
  }
 ],
 "metadata": {
  "kernelspec": {
   "display_name": "myenv",
   "language": "python",
   "name": "python3"
  },
  "language_info": {
   "codemirror_mode": {
    "name": "ipython",
    "version": 3
   },
   "file_extension": ".py",
   "mimetype": "text/x-python",
   "name": "python",
   "nbconvert_exporter": "python",
   "pygments_lexer": "ipython3",
   "version": "3.12.1"
  }
 },
 "nbformat": 4,
 "nbformat_minor": 5
}
