{
 "cells": [
  {
   "cell_type": "code",
   "execution_count": 1,
   "id": "5460a039",
   "metadata": {},
   "outputs": [
    {
     "name": "stderr",
     "output_type": "stream",
     "text": [
      "/workspaces/Intelligent-Customer-Feedback-Analysis-System-using-AI/myenv/lib/python3.12/site-packages/tqdm/auto.py:21: TqdmWarning: IProgress not found. Please update jupyter and ipywidgets. See https://ipywidgets.readthedocs.io/en/stable/user_install.html\n",
      "  from .autonotebook import tqdm as notebook_tqdm\n"
     ]
    }
   ],
   "source": [
    "from transformers import pipeline\n",
    "import pandas as pd\n",
    "processed_df=pd.read_csv('dataset/csv/processed_data.csv')"
   ]
  },
  {
   "cell_type": "code",
   "execution_count": 6,
   "id": "7dca20d2",
   "metadata": {},
   "outputs": [],
   "source": [
    "class FeedbackChatbot:\n",
    "    def __init__(self):\n",
    "        self.qa_pipeline = pipeline(\"question-answering\", \n",
    "                                  model=\"distilbert-base-cased-distilled-squad\")\n",
    "        self.feedback_context = self.prepare_context()\n",
    "    \n",
    "    def prepare_context(self):\n",
    "        positive_feedback = processed_df[processed_df['original_label'] == 1]['processed_text'].tolist()\n",
    "        negative_feedback = processed_df[processed_df['original_label'] == 0]['processed_text'].tolist()\n",
    "        \n",
    "        context = \"\"\"\n",
    "        Customer Feedback Analysis Context:\n",
    "        \n",
    "        Positive Feedback Themes:\n",
    "        - Product quality and satisfaction\n",
    "        - Good customer service experience  \n",
    "        - Value for money\n",
    "        - User-friendly features\n",
    "        \n",
    "        Negative Feedback Themes:\n",
    "        - Product quality issues\n",
    "        - Poor customer service\n",
    "        - Shipping and delivery problems\n",
    "        - Mismatched expectations\n",
    "        \n",
    "        Common Suggestions:\n",
    "        - Improve product durability\n",
    "        - Enhance customer support responsiveness\n",
    "        - Provide better product information\n",
    "        - Streamline return processes\n",
    "        \"\"\"\n",
    "        context += \"\\nSample Positive Feedbacks:\\n\" + \"\\n\".join(positive_feedback[:3])\n",
    "        context += \"\\nSample Negative Feedbacks:\\n\" + \"\\n\".join(negative_feedback[:3])\n",
    "        return context\n",
    "    def ask_question(self, question):\n",
    "        try:\n",
    "            result = self.qa_pipeline(\n",
    "                question=question,\n",
    "                context=self.feedback_context,\n",
    "                max_answer_len=100\n",
    "            )\n",
    "            return result['answer']\n",
    "        except:\n",
    "            return \"I'm sorry, I couldn't process that question. Please try again.\""
   ]
  },
  {
   "cell_type": "code",
   "execution_count": 7,
   "id": "9a43981d",
   "metadata": {},
   "outputs": [
    {
     "name": "stderr",
     "output_type": "stream",
     "text": [
      "Device set to use cpu\n"
     ]
    },
    {
     "name": "stdout",
     "output_type": "stream",
     "text": [
      "\n",
      "Question: What are the main positive themes in customer feedback?\n",
      "Answer: Product quality and satisfaction\n",
      "\n",
      "Question: What issues do customers complain about most?\n",
      "Answer: Poor customer service\n",
      "        - Shipping and delivery problems\n",
      "\n",
      "Question: What suggestions do customers have for improvement?\n",
      "Answer: Product quality and satisfaction\n",
      "        - Good customer service experience  \n",
      "        - Value for money\n",
      "        - User-friendly features\n",
      "\n",
      "        Negative Feedback Themes:\n",
      "        - Product quality issues\n",
      "        - Poor customer service\n",
      "        - Shipping and delivery problems\n"
     ]
    }
   ],
   "source": [
    "chatbot = FeedbackChatbot()\n",
    "test_questions = [\n",
    "    \"What are the main positive themes in customer feedback?\",\n",
    "    \"What issues do customers complain about most?\",\n",
    "    \"What suggestions do customers have for improvement?\"\n",
    "]\n",
    "for question in test_questions:\n",
    "    answer = chatbot.ask_question(question)\n",
    "    print(f\"\\nQuestion: {question}\")\n",
    "    print(f\"Answer: {answer}\")"
   ]
  }
 ],
 "metadata": {
  "kernelspec": {
   "display_name": "myenv",
   "language": "python",
   "name": "python3"
  },
  "language_info": {
   "codemirror_mode": {
    "name": "ipython",
    "version": 3
   },
   "file_extension": ".py",
   "mimetype": "text/x-python",
   "name": "python",
   "nbconvert_exporter": "python",
   "pygments_lexer": "ipython3",
   "version": "3.12.1"
  }
 },
 "nbformat": 4,
 "nbformat_minor": 5
}
