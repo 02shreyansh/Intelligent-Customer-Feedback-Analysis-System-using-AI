{
 "cells": [
  {
   "cell_type": "code",
   "execution_count": 2,
   "id": "d3db336b",
   "metadata": {},
   "outputs": [
    {
     "name": "stderr",
     "output_type": "stream",
     "text": [
      "[nltk_data] Downloading package punkt_tab to\n",
      "[nltk_data]     /home/codespace/nltk_data...\n",
      "[nltk_data]   Package punkt_tab is already up-to-date!\n",
      "[nltk_data] Downloading package punkt to /home/codespace/nltk_data...\n",
      "[nltk_data]   Package punkt is already up-to-date!\n",
      "[nltk_data] Downloading package stopwords to\n",
      "[nltk_data]     /home/codespace/nltk_data...\n",
      "[nltk_data]   Package stopwords is already up-to-date!\n",
      "[nltk_data] Downloading package wordnet to\n",
      "[nltk_data]     /home/codespace/nltk_data...\n",
      "[nltk_data]   Package wordnet is already up-to-date!\n",
      "[nltk_data] Downloading package omw-1.4 to\n",
      "[nltk_data]     /home/codespace/nltk_data...\n",
      "[nltk_data]   Package omw-1.4 is already up-to-date!\n"
     ]
    },
    {
     "data": {
      "text/plain": [
       "True"
      ]
     },
     "execution_count": 2,
     "metadata": {},
     "output_type": "execute_result"
    }
   ],
   "source": [
    "import pandas as pd\n",
    "import numpy as np\n",
    "import re\n",
    "import nltk\n",
    "from nltk.corpus import stopwords\n",
    "from nltk.tokenize import word_tokenize\n",
    "from nltk.stem import WordNetLemmatizer\n",
    "from datasets import load_dataset\n",
    "import warnings\n",
    "warnings.filterwarnings('ignore')\n",
    "\n",
    "nltk.download('punkt_tab')\n",
    "nltk.download('punkt')\n",
    "nltk.download('stopwords')\n",
    "nltk.download('wordnet')\n",
    "nltk.download('omw-1.4')"
   ]
  },
  {
   "cell_type": "code",
   "execution_count": 3,
   "id": "08200e8b",
   "metadata": {},
   "outputs": [
    {
     "name": "stdout",
     "output_type": "stream",
     "text": [
      "   label                                               text label_text\n",
      "0      1  Stuning even for the non-gamer\\n\\nThis sound t...   positive\n",
      "1      1  The best soundtrack ever to anything.\\n\\nI'm r...   positive\n",
      "2      1  Amazing!\\n\\nThis soundtrack is my favorite mus...   positive\n",
      "3      1  Excellent Soundtrack\\n\\nI truly like this soun...   positive\n",
      "4      1  Remember, Pull Your Jaw Off The Floor After He...   positive\n",
      "(1500, 3)\n"
     ]
    }
   ],
   "source": [
    "dataset = load_dataset(\"mteb/amazon_polarity\",split=\"train[:1500]\")\n",
    "df = dataset.to_pandas()\n",
    "print(df.head())\n",
    "print(df.shape)"
   ]
  },
  {
   "cell_type": "code",
   "execution_count": 4,
   "id": "6a265dd9",
   "metadata": {},
   "outputs": [
    {
     "name": "stdout",
     "output_type": "stream",
     "text": [
      "original_label    0\n",
      "feedback_text     0\n",
      "label_text        0\n",
      "feedback_id       0\n",
      "timestamp         0\n",
      "source            0\n",
      "dtype: int64\n"
     ]
    }
   ],
   "source": [
    "df['feedback_id'] = range(1, len(df) + 1)\n",
    "df['timestamp'] = pd.date_range(start='2023-01-01', periods=len(df), freq='H')\n",
    "df['source'] = np.random.choice(['email', 'chat', 'social_media'], len(df))\n",
    "df.rename(columns={'text': 'feedback_text', 'label': 'original_label'}, inplace=True)\n",
    "df.drop_duplicates(subset=['feedback_text'], inplace=True)\n",
    "print(df.isnull().sum())"
   ]
  },
  {
   "cell_type": "code",
   "execution_count": 5,
   "id": "b8591554",
   "metadata": {},
   "outputs": [
    {
     "name": "stdout",
     "output_type": "stream",
     "text": [
      "                                       feedback_text  \\\n",
      "0  Stuning even for the non-gamer\\n\\nThis sound t...   \n",
      "1  The best soundtrack ever to anything.\\n\\nI'm r...   \n",
      "\n",
      "                                        cleaned_text  \n",
      "0  stuning even for the nongamer this sound track...  \n",
      "1  the best soundtrack ever to anything im readin...  \n"
     ]
    }
   ],
   "source": [
    "def clean_text(text):\n",
    "    text = text.lower()\n",
    "    text = re.sub(r'http\\S+|www\\S+|https\\S+', '', text, flags=re.MULTILINE)\n",
    "    text = re.sub(r'\\S+@\\S+', '', text)\n",
    "    text = re.sub(r'[^a-zA-Z\\s]', '', text)\n",
    "    text = re.sub(r'\\s+', ' ', text).strip()\n",
    "    return text\n",
    "\n",
    "df['cleaned_text'] = df['feedback_text'].apply(clean_text)\n",
    "print(df[['feedback_text', 'cleaned_text']].head(2))"
   ]
  },
  {
   "cell_type": "code",
   "execution_count": 6,
   "id": "4e5e5914",
   "metadata": {},
   "outputs": [],
   "source": [
    "def tokenize_text(text):\n",
    "    return word_tokenize(text)\n",
    "\n",
    "df['tokens'] = df['cleaned_text'].apply(tokenize_text)\n",
    "stop_words = set(stopwords.words('english'))\n",
    "\n",
    "def remove_stopwords(tokens):\n",
    "    return [word for word in tokens if word not in stop_words and len(word) > 2]\n",
    "\n",
    "df['tokens_no_stopwords'] = df['tokens'].apply(remove_stopwords)"
   ]
  },
  {
   "cell_type": "code",
   "execution_count": 7,
   "id": "bdbbe5a0",
   "metadata": {},
   "outputs": [],
   "source": [
    "lemmatizer = WordNetLemmatizer()\n",
    "\n",
    "def lemmatize_tokens(tokens):\n",
    "    return [lemmatizer.lemmatize(word) for word in tokens]\n",
    "\n",
    "df['lemmatized_tokens'] = df['tokens_no_stopwords'].apply(lemmatize_tokens)"
   ]
  },
  {
   "cell_type": "code",
   "execution_count": 8,
   "id": "8bf7c995",
   "metadata": {},
   "outputs": [],
   "source": [
    "df['processed_text'] = df['lemmatized_tokens'].apply(lambda x: ' '.join(x))\n",
    "df['word_count'] = df['processed_text'].apply(lambda x: len(x.split()))\n",
    "df = df[df['word_count'] >= 3]\n",
    "df = df[df['word_count'] <= 500]"
   ]
  },
  {
   "cell_type": "code",
   "execution_count": 9,
   "id": "f47a97f6",
   "metadata": {},
   "outputs": [],
   "source": [
    "df.to_csv('dataset/csv/cleaned_feedback_data.csv', index=False)\n",
    "df[['feedback_id', 'processed_text', 'original_label', 'timestamp', 'source']].to_csv('dataset/csv/processed_data.csv', index=False)"
   ]
  }
 ],
 "metadata": {
  "kernelspec": {
   "display_name": "myenv",
   "language": "python",
   "name": "python3"
  },
  "language_info": {
   "codemirror_mode": {
    "name": "ipython",
    "version": 3
   },
   "file_extension": ".py",
   "mimetype": "text/x-python",
   "name": "python",
   "nbconvert_exporter": "python",
   "pygments_lexer": "ipython3",
   "version": "3.12.1"
  }
 },
 "nbformat": 4,
 "nbformat_minor": 5
}
